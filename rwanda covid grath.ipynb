# COVID-19 Global Data Tracker - Rwanda

# Import libraries
import pandas as pd
import matplotlib.pyplot as plt
import seaborn as sns

# Load dataset from Our World in Data
url = "https://covid.ourworldindata.org/data/owid-covid-data.csv"
try:
    df = pd.read_csv(url)
except Exception as e:
    print(f"Error loading dataset: {e}")
    exit()

# Filter for Rwanda
df_rwanda = df[df['location'] == 'Rwanda'].copy()

# Convert date column
df_rwanda['date'] = pd.to_datetime(df_rwanda['date'])

# Keep relevant columns
columns = ['date', 'total_cases', 'new_cases', 'total_deaths', 'new_deaths', 'total_vaccinations']
df_rwanda = df_rwanda[columns]

# Fill missing values
df_rwanda.fillna(method='ffill', inplace=True)
df_rwanda.dropna(subset=['total_cases', 'total_deaths', 'total_vaccinations'], inplace=True)

# Plot total cases and deaths over time
sns.set(style="whitegrid")
plt.figure(figsize=(12, 6))
plt.plot(df_rwanda['date'], df_rwanda['total_cases'], label='Total Cases')
plt.plot(df_rwanda['date'], df_rwanda['total_deaths'], label='Total Deaths', color='red')
plt.title('COVID-19 Cases and Deaths in Rwanda')
plt.xlabel('Date')
plt.ylabel('Count')
plt.legend()
plt.xticks(rotation=45)
plt.tight_layout()
plt.show()

# Plot vaccination progress
plt.figure(figsize=(12, 6))
plt.plot(df_rwanda['date'], df_rwanda['total_vaccinations'], label='Total Vaccinations', color='green')
plt.title('COVID-19 Vaccination Progress in Rwanda')
plt.xlabel('Date')
plt.ylabel('Total Vaccinations')
plt.xt